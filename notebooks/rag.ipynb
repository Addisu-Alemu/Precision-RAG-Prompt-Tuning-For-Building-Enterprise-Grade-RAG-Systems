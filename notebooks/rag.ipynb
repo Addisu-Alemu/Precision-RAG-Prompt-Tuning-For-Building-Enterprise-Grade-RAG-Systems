{
 "cells": [
  {
   "cell_type": "code",
   "execution_count": 107,
   "metadata": {},
   "outputs": [],
   "source": [
    "from langchain_community.document_loaders import PyPDFLoader\n",
    "DATA_PATH = \"../data\""
   ]
  },
  {
   "cell_type": "code",
   "execution_count": 108,
   "metadata": {},
   "outputs": [
    {
     "data": {
      "text/plain": [
       "[Document(page_content=\"evaluate\\n10\\nAcademy\\nCohort\\nB\\nWeekly\\nChallenge:\\nWeek\\n7\\nPrecision\\nRAG:\\nPrompt\\nTuning\\nFor\\nBuilding\\nEnterprise\\nGrade\\nRAG\\nSystems\\nBusiness\\nobjective\\nPromptlyTech\\nis\\nan\\ninnovative\\ne-business\\nspecializing\\nin\\nproviding\\nAI-driven\\nsolutions\\nfor\\noptimizing\\nthe\\nuse\\nof\\nLanguage\\nModels\\n(LLMs)\\nin\\nvarious\\nindustries.\\nThe\\ncompany\\naims\\nto\\nrevolutionize\\nhow\\nbusinesses\\ninteract\\nwith\\nLLMs,\\nmaking\\nthe\\ntechnology\\nmore\\naccessible,\\neﬃcient,\\nand\\neﬀective.\\nBy\\naddressing\\nthe\\nchallenges\\nof\\nprompt\\nengineering,\\nthe\\ncompany\\nplays\\na\\npivotal\\nrole\\nin\\nenhancing\\ndecision-making,\\noperational\\neﬃciency,\\nand\\ncustomer\\nexperience\\nacross\\nvarious\\nindustries.\\nPromptlyTech's\\nsolutions\\nare\\ndesigned\\nto\\ncater\\nto\\nthe\\nevolving\\nneeds\\nof\\na\\ndigitally-driven\\nbusiness\\nlandscape,\\nwhere\\nspeed\\nand\\naccuracy\\nare\\nkey\\nto\\nstaying\\ncompetitive.\\nThe\\ncompany\\nfocuses\\non\\nkey\\nservices:\\nAutomatic\\nPrompt\\nGeneration,\\nAutomatic\\nEvaluation\\nData\\nGeneration,\\nand\\nPrompt\\nTesting\\nand\\nRanking.\\n1.\\nAutomatic\\nPrompt\\nGeneration\\nService:\\n●\\nThis\\nservice\\nstreamlines\\nthe\\nprocess\\nof\\ncreating\\neﬀective\\nprompts,\\nenabling\\nbusinesses\\nto\\neﬃciently\\nutilize\\nLLMs\\nfor\\ngenerating\\nhigh-quality,\\nrelevant\\ncontent.\\nIt\\nsigniﬁcantly\\nreduces\\nthe\\ntime\\nand\\nexpertise\\nrequired\\nin\\ncrafting\\nprompts\\nmanually.\\n2.\\nAutomatic\\nEvaluation\\nData\\nGeneration\\nService:\\n\", metadata={'source': '../data/Week-7.pdf', 'page': 0}),\n",
       " Document(page_content='●\\nPromptlyTech’s\\nservice\\nautomates\\nthe\\ngeneration\\nof\\ndiverse\\ntest\\ncases,\\nensuring\\ncomprehensive\\ncoverage\\nand\\nidentifying\\npotential\\nissues.\\nThis\\nenhances\\nthe\\nreliability\\nand\\nperformance\\nof\\nLLM\\napplications,\\nsaving\\nsigniﬁcant\\ntime\\nin\\nthe\\nQA(Quality\\nAssurance)\\nprocess.\\n3.\\nPrompt\\nTesting\\nand\\nRanking\\nService:\\n●\\nPromptlyTech’s\\nservice\\nevaluates\\nand\\nranks\\ndiﬀerent\\nprompts\\nbased\\non\\neﬀectiveness,\\nhelping\\nUsers\\nto\\nget\\nthe\\ndesired\\noutcome\\nfrom\\nLLM.\\nIt\\nensures\\nthat\\nchatbots\\nand\\nvirtual\\nassistants\\nprovide\\naccurate,\\ncontextually\\nrelevant\\nresponses,\\nthereby\\nimproving\\nuser\\nengagement\\nand\\nsatisfaction.\\nBackground\\nContext\\nIn\\nthe\\nevolving\\nﬁeld\\nof\\nartiﬁcial\\nintelligence,\\nLanguage\\nModels\\n(LLMs)\\nlike\\nGPT-3.5\\nand\\nGPT-4\\nhave\\nbecome\\ncrucial\\nfor\\nvarious\\napplications.\\nTheir\\neﬀectiveness,\\nhowever,\\nheavily\\ndepends\\non\\nthe\\nquality\\nof\\nthe\\nprompts\\nthey\\nreceive,\\nleading\\nto\\nthe\\nemergence\\nof\\n\"prompt\\nengineering\"\\nas\\na\\nkey\\nskill.\\nPrompt\\nengineering\\nis\\nthe\\ncraft\\nof\\ndesigning\\nqueries\\nor\\nstatements\\nto\\nguide\\nLLMs\\nto\\nproduce\\ndesired\\noutcomes.\\nThe\\nchallenge\\nlies\\nin\\nthe\\nsensitivity\\nof\\nthese\\nmodels\\nto\\nprompt\\nnuances,\\nwhere\\nslight\\nvariations\\ncan\\nyield\\nvastly\\ndiﬀerent\\nresults.\\nThis\\nposes\\na\\nsigniﬁcant\\nhurdle\\nfor\\nusers,\\nespecially\\nin\\nbusiness\\ncontexts\\nwhere\\naccuracy\\nand\\nrelevance\\nare\\nparamount.\\nThe\\nneed\\nfor\\nsimpliﬁed,\\neﬃcient\\nprompt\\nengineering\\nis\\nclear.\\nAutomating\\nand\\noptimizing\\nthis\\nprocess\\ncan\\nsave\\ntime,\\nenhance\\nLLM\\nproductivity,\\nand\\nmake\\nadvanced\\nAI\\ncapabilities\\nmore\\naccessible\\nto\\na\\nbroader\\nrange\\nof\\nusers.\\nThe\\ntasks\\nof\\nAutomatic\\nPrompt\\nGeneration,\\nEvaluation\\nData\\nGeneration,\\nand\\nPrompt\\nTesting\\nand\\nRanking\\nare\\naimed\\nat\\naddressing\\nthese\\nchallenges,\\nstreamlining\\nthe\\nprompt\\nengineering\\nprocess\\nfor\\nmore\\neﬀective\\nuse\\nof\\nLLMs.\\nLearning\\nOutcomes\\nSkills\\nDevelopment\\n●\\nPrompt\\nEngineering\\nProﬁciency:\\nGain\\nexpertise\\nin\\ncrafting\\neﬀective\\nprompts\\nthat\\nguide\\nLLMs\\nto\\ndesired\\noutputs,\\nunderstanding\\nnuances\\nand\\nvariations\\nin\\nlanguage\\nthat\\nimpact\\nmodel\\nresponses.\\n●\\nCritical\\nAnalysis:\\nDevelop\\nthe\\nability\\nto\\ncritically\\nanalyze\\nand\\nevaluate\\nthe\\neﬀectiveness\\nof\\ndiﬀerent\\nprompts\\nbased\\non\\ntheir\\nperformance\\nin\\nvaried\\nscenarios.\\n●\\nTechnical\\nAptitude\\nwith\\nLLMs:\\nEnhance\\ntechnical\\nskills\\nin\\nusing\\nadvanced\\nlanguage\\nmodels\\nlike\\nGPT-4\\nand\\nGPT-3.5-Turbo,\\nunderstanding\\ntheir\\nfunctionalities\\nand\\ncapabilities.\\n●\\nProblem-Solving\\nand\\nCreativity:\\nCultivate\\ncreative\\nproblem-solving\\nskills\\nby\\ngenerating\\ninnovative\\nprompts\\nand\\ntest\\ncases,\\naddressing\\ncomplex\\nand\\nvaried\\nobjectives.', metadata={'source': '../data/Week-7.pdf', 'page': 1}),\n",
       " Document(page_content='●\\nData\\nInterpretation:\\nLearn\\nto\\ninterpret\\nand\\nanalyze\\ndata\\nfrom\\ntest\\ncases\\nand\\nprompt\\nevaluations,\\nderiving\\nmeaningful\\ninsights\\nfrom\\nperformance\\nmetrics.\\nKnowledge\\nAcquisition\\n●\\nUnderstanding\\nof\\nLanguage\\nModels:\\nAcquire\\na\\ndeeper\\nunderstanding\\nof\\nhow\\nLLMs\\nfunction,\\nincluding\\ntheir\\nstrengths,\\nlimitations,\\nand\\nthe\\nprinciples\\nbehind\\ntheir\\nresponses.\\n●\\nInsights\\ninto\\nAutomated\\nEvaluation\\nData\\nGeneration:\\nGain\\nknowledge\\nabout\\nthe\\nmethodology\\nand\\nimportance\\nof\\ncreating\\ntest\\ncases\\nfor\\nevaluating\\nprompt\\neﬀectiveness.\\n●\\nELO\\nRating\\nSystem\\nand\\nits\\nApplications:\\nLearn\\nabout\\nthe\\nELO\\nrating\\nsystem\\nused\\nfor\\nranking\\nprompts,\\nunderstanding\\nits\\nmechanics\\nand\\nrelevance\\nin\\nperformance\\nevaluation.\\n●\\nPrompt\\nOptimization\\nStrategies:\\nUnderstand\\nvarious\\nstrategies\\nfor\\nreﬁning\\nand\\noptimizing\\nprompts\\nto\\nachieve\\nbetter\\nalignment\\nwith\\nspeciﬁc\\ngoals\\nand\\ndesired\\noutcomes.\\n●\\nIndustry\\nBest\\nPractices:\\nFamiliarize\\nwith\\nthe\\nbest\\npractices\\nin\\nprompt\\nengineering\\nwithin\\ndiﬀerent\\nindustries,\\nlearning\\nabout\\nreal-world\\napplications\\nand\\nchallenges.\\nTeam\\nTutors:\\n-\\nYabebal\\n-\\nEmtinan\\n-\\nRehmet\\nBadges\\nEach\\nweek,\\none\\nuser\\nwill\\nbe\\nawarded\\none\\nof\\nthe\\nbadges\\nbelow\\nfor\\nthe\\nbest\\nperformance\\nin\\nthe\\ncategory\\nbelow.\\nIn\\naddition\\nto\\nbeing\\nthe\\nbadge\\nholder\\nfor\\nthat\\nbadge,\\neach\\nbadge\\nwinner\\nwill\\nget\\n+20\\npoints\\nto\\nthe\\noverall\\nscore.\\nVisualization\\n-\\nquality\\nof\\nvisualizations,\\nunderstandability,\\nskimmability,\\nchoice\\nof\\nvisualization\\nQuality\\nof\\ncode\\n-\\nreliability,\\nmaintainability,\\neﬃciency,\\ncommenting\\n-\\nin\\nfuture\\nthis\\nwill\\nbe\\nCICD\\n/CML\\nInnovative\\napproach\\nto\\nanalysis\\n-using\\nlatest\\nalgorithms,\\nadding\\nin\\nresearch\\npaper\\ncontent\\nand\\nother\\ninnovative\\napproaches\\nWriting\\nand\\npresentation\\n-\\nclarity\\nof\\nwritten\\noutputs,\\nclarity\\nof\\nslides,\\noverall\\nproduction\\nvalue\\nMost\\nsupportive\\nin\\nthe\\ncommunity\\n-\\nhelping\\nothers,\\nadding\\nlinks,\\ntutoring\\nthose\\nstruggling', metadata={'source': '../data/Week-7.pdf', 'page': 2}),\n",
       " Document(page_content='The\\ngoal\\nof\\nthis\\napproach\\nis\\nto\\nsupport\\nand\\nreward\\nexpertise\\nin\\ndiﬀerent\\nparts\\nof\\nthe\\nMachine\\nlearning\\nengineering\\ntoolbox.\\nGroup\\nWork\\nPolicy\\nEveryone\\nhas\\nto\\nsubmit\\nall\\ntheir\\nwork\\nindividually.', metadata={'source': '../data/Week-7.pdf', 'page': 3}),\n",
       " Document(page_content='Instruction:\\nAutomatic\\nPrompt\\nEngineering\\nFundamental\\nTasks\\nThe\\ncore\\ntasks\\nfor\\nthis\\nweek’s\\nchallenge\\nin\\nAutomatic\\nPrompt\\nEngineering\\nare\\noutlined\\nbelow:\\n1.\\nUnderstand\\nPrompt\\nEngineering\\nTools\\nand\\nConcepts:\\nGain\\na\\nthorough\\nunderstanding\\nof\\nthe\\ntools\\nand\\ntheoretical\\nconcepts\\ninvolved\\nin\\nprompt\\nengineering\\nfor\\nLanguage\\nModels\\n(LLMs).\\n2.\\nFamiliarize\\nwith\\nLanguage\\nModels:\\nLearn\\nabout\\nthe\\ncapabilities\\nand\\nfunctionalities\\nof\\nadvanced\\nLLMs\\nlike\\nGPT-4\\nand\\nGPT-3.5-Turbo.\\n3.\\nDevelop\\na\\nPlan\\nfor\\nPrompt\\nGeneration\\nand\\nTesting:\\nCreate\\na\\ncomprehensive\\nplan\\nthat\\noutlines\\nthe\\napproach\\nfor\\nautomated\\nprompt\\ngeneration,\\ntest\\ncase\\ncreation,\\nand\\nprompt\\nevaluation.\\n4.\\nSet\\nUp\\na\\nDevelopment\\nEnvironment:\\nPrepare\\na\\nsuitable\\ndevelopment\\nenvironment\\nthat\\nsupports\\nthe\\nintegration\\nand\\ntesting\\nof\\nLLMs\\nin\\nthe\\nprompt\\nengineering\\nprocess.\\n5.\\nDesign\\nUser\\nInterface\\nfor\\nPrompt\\nSystem:\\nPlan\\nand\\ninitiate\\nthe\\ndevelopment\\nof\\na\\nuser-friendly\\ninterface\\nfor\\nprompt\\ninput,\\nreﬁnement,\\nand\\nperformance\\nanalysis.\\n6.\\nPlan\\nIntegration\\nof\\nLLMs:\\nStrategize\\nthe\\nintegration\\nof\\nLLMs\\ninto\\nthe\\nprompt\\nsystem\\nfor\\nautomated\\ngeneration\\nand\\ntesting.\\n7.\\nBuild\\nand\\nReﬁne\\nPrompt\\nGeneration\\nSystem:\\nDevelop\\nthe\\nautomated\\nprompt\\ngeneration\\nsystem,\\nensuring\\nit\\naligns\\nwith\\nuser\\ninputs\\nand\\nobjectives.\\n8.\\nDevelop\\nAutomatic\\nEvaluation\\nData\\nGeneration\\nSystem:\\nCreate\\na\\nsystem\\nfor\\ngenerating\\ntest\\ncases\\nthat\\nevaluate\\nthe\\neﬀectiveness\\nof\\nprompts\\nin\\nvarious\\nscenarios.\\n9.\\nImplement\\nPrompt\\nTesting\\nand\\nEvaluation\\nMechanism:\\nSet\\nup\\ntesting\\nprocedures\\nusing\\nMonte\\nCarlo\\nmatchmaking\\nand\\nELO\\nrating\\nsystems\\nto\\nevaluate\\nand\\nrank\\nprompts.\\n10.\\nReﬁne\\nand\\nOptimize\\nSystem\\nBased\\non\\nFeedback:\\nContinuously\\nreﬁne\\nthe\\nprompt\\ngeneration\\nand\\nevaluation\\nsystem\\nbased\\non\\nuser\\nfeedback\\nand\\nperformance\\ndata.', metadata={'source': '../data/Week-7.pdf', 'page': 4}),\n",
       " Document(page_content='Task\\n1:\\nReview\\nthe\\nEvolution\\nof\\nAutomatic\\nPrompt\\nEngineering\\nFocus\\non\\nunderstanding\\nthe\\nkey\\ndevelopments\\nin\\nthe\\nﬁeld\\nof\\nautomatic\\nprompt\\nengineering\\nfor\\nLanguage\\nModels\\n(LLMs).\\nStudy\\nKey\\nConcepts\\nand\\nTools:\\n●\\nUnderstand\\nthe\\nkey\\ncomponents\\nof\\nan\\nenterprise-grade\\nRAG\\nsystems\\n○\\nRetrieval-augmented\\ngeneration\\n(RAG):\\nWhat\\nit\\nis\\nand\\nwhy\\nit’s\\na\\nhot\\ntopic\\nfor\\nenterprise\\nAI\\n○\\nAdvanced\\nRAG\\nfor\\nLLMs/SLMs\\n○\\nRAG\\nfor\\nText\\nGeneration\\nProcesses\\nin\\nBusinesses\\n(check\\npart\\n1,\\n3,\\n&\\n4\\nas\\nwell)\\n○\\nLangchain\\nReterivers\\n●\\nUnderstand\\nthe\\nneed\\nfor\\nadvanced\\nprompt\\nengineering\\nin\\nbuilding\\nenterprise\\ngrade\\nRAG\\nsystems\\n○\\nFull\\nFine-Tuning,\\nPEFT,\\nPrompt\\nEngineering,\\nand\\nRAG:\\nWhich\\nOne\\nIs\\nRight\\nfor\\nYou?\\n○\\nAdvanced\\nPrompt\\nEngineering\\n-\\nPractical\\nExamples\\n○\\nPrompt\\nEngineering\\n201:\\nAdvanced\\nmethods\\nand\\ntoolkits\\n○\\nDo\\nyou\\nagree\\nwith\\nthis\\narticle?\\nRAG\\nis\\nJust\\nFancier\\nPrompt\\nEngineering\\n●\\nUnderstand\\nthe\\nneed\\nfor\\nevaluating\\nRAG\\ncomponents\\n○\\nAn\\nOverview\\non\\nRAG\\nEvaluation\\n○\\nEvaluating\\nRAG:\\nUsing\\nLLMs\\nto\\nAutomate\\nBenchmarking\\nof\\nRetrieval\\nAugmented\\nGeneration\\nSystems\\n○\\nEvaluating\\nRAG\\nApplications\\nwith\\nRAGAs\\n○\\nRAG\\nEvaluation\\nUsing\\nLangChain\\nand\\nRagas\\n○\\nRAG\\nSystem:\\nMetrics\\nand\\nEvaluation\\nAnalysis\\nwith\\nLlamaIndex\\n○\\nEvaluating\\nRAG\\nPart\\nI:\\nHow\\nto\\nEvaluate\\nDocument\\nRetrieval\\n○\\nEvaluating\\nRAG/LLMs\\nin\\nhighly\\ntechnical\\nsettings\\nusing\\nsynthetic\\nQA\\ngeneration\\n○\\nEvaluating\\nMulti-Modal\\nRAG\\n●\\nUnderstand\\nthe\\ntools\\nand\\ntechniques\\nto\\nautomatically\\ngenerate\\nRAG\\nevaluation\\ndata\\n○\\nThe\\nTech\\nBuﬀet\\n#16:\\nQuickly\\nEvaluate\\nyour\\nRAG\\nWithout\\nManually\\nLabeling\\nTest\\nData\\n○\\nGenerating\\na\\nSynthetic\\nDataset\\nfor\\nRAG\\n○\\n●\\nLearn\\nkey\\npackages\\nto\\nplanning,\\nbuilding,\\ntesting,\\nmonitoring,\\nand\\ndeploying\\nenterprise\\ngrade\\nRAG\\nsystem\\n○\\nIterate\\non\\nLLMs\\nfaster:\\nMeasure\\nLLM\\nquality\\nand\\ncatch\\nregressions\\n○\\nBuilding\\nRAG-based\\nLLM\\nApplications\\nfor\\nProduction\\n○\\nARES:\\nAn\\nAutomated\\nEvaluation\\nFramework\\nfor\\nRetrieval-Augmented\\nGeneration\\nSystems\\n●\\nUnderstand\\nthe\\nend-to-end\\ntechnology\\nstack\\nof\\nRAG\\nsystems\\n○\\nEnd-to-End\\nLLMOps\\nPlatform', metadata={'source': '../data/Week-7.pdf', 'page': 5}),\n",
       " Document(page_content='○\\nAn\\nEnterprise-Grade\\nReference\\nArchitecture\\nfor\\nthe\\nProduction\\nDeployment\\nof\\nLLMs\\nUsing\\nthe\\nRAG\\nPattern\\non\\nAzure\\nOpenAI\\nTask\\n2:\\nDesign\\nand\\nDevelop\\nthe\\nPrompt\\nGeneration\\nSystem\\n●\\nUsers\\ncan\\ninput\\na\\ndescription\\nof\\ntheir\\nobjective\\nor\\ntask\\nand\\nspecify\\na\\nfew\\nscenarios\\nalong\\nwith\\ntheir\\nexpected\\noutputs.\\n●\\nWrite\\nor\\nadopt\\nsophisticated\\nalgorithms,\\nyou\\ngenerate\\nmultiple\\nprompt\\noptions\\nbased\\non\\nthe\\nprovided\\ninformation.\\n●\\nThis\\nautomated\\nprompt\\ngeneration\\nprocess\\nsaves\\ntime\\nand\\nprovides\\na\\ndiverse\\nrange\\nof\\nalternatives\\nto\\nconsider.\\nBut\\nadd\\nevaluation\\nmetrics\\nthat\\ncheck\\nwhether\\nthe\\ngenerated\\nprompt\\ncandidate\\naligns\\nwith\\nthe\\ninput\\ndescription.\\n●\\nNote\\nthat\\nyou\\nmay\\nuse\\nthe\\ncollection\\nof\\nprompts\\nfrom\\ndanielmiessler/fabric:\\nfabric\\nis\\nan\\nopen-source\\nframework\\nfor\\naugmenting\\nhumans\\nusing\\nAI.\\nIt\\nprovides\\na\\nmodular\\nframework\\nfor\\nsolving\\nspeciﬁc\\nproblems\\nusing\\na\\ncrowdsourced\\nset\\nof\\nAI\\nprompts\\nthat\\ncan\\nbe\\nused\\nanywhere.\\n(github.com)\\nto\\nget\\nstarted.\\nYou\\ncan\\napply\\nRAG\\non\\nprompt\\nknowledge\\nbase.\\nFor\\na\\nsimple\\nway\\nof\\nfetching\\nsemantically\\nsimilar\\nprompts,\\nthink\\nhow\\nto\\nuse\\nsemantic\\nroutes\\nTask\\n3:\\nImplement\\nEvaluation\\nData\\nGeneration\\nand\\nEvaluation\\nTo\\nfurther\\nenhance\\nthe\\nprompt\\ngeneration\\nprocess,\\nincorporate\\nautomatic\\nEvaluation\\nData\\nGeneration.\\n●\\nBy\\nanalysing\\nthe\\ndescription\\nprovided\\nby\\nthe\\nuser,\\ncreate\\na\\nset\\nof\\ntest\\ncases\\nthat\\nserve\\nas\\nevaluation\\nbenchmarks\\nfor\\nthe\\nprompt\\ncandidates.\\n●\\nThese\\ntest\\ncases\\nsimulate\\nvarious\\nscenarios,\\nenabling\\nusers\\nto\\nobserve\\nhow\\neach\\nprompt\\nperforms\\nin\\ndiﬀerent\\ncontexts.\\n●\\nThe\\ngenerated\\ntest\\ncases\\nserve\\nas\\na\\nstarting\\npoint,\\nsparking\\ncreativity\\nand\\ninspiring\\nadditional\\ntest\\ncases\\nfor\\ncomprehensive\\nevaluation.\\nTask\\n4:\\nPrompt\\nTesting\\nand\\nRanking\\nGoals\\nComprehensive\\nEvaluation:\\nProvide\\na\\nrobust\\nsystem\\nthat\\nuses\\nvarious\\nmethodologies\\nfor\\na\\nthorough\\nassessment\\nof\\nprompts.\\nCustomizable\\nand\\nUser-Centric:\\nAllow\\nusers\\nto\\nchoose\\nor\\ncustomize\\ntheir\\npreferred\\nevaluation\\nmethods.\\nDynamic\\nand\\nAdaptive:\\nEnsure\\nthe\\nsystem\\nremains\\nﬂexible\\nand\\nadaptive,\\ncapable\\nof\\nincorporating\\nnew\\nranking\\nmethodologies\\nas\\nthey\\nemerge.\\nPrimary\\nMethods\\n●\\nMonte\\nCarlo\\nMatchmaking:\\nThis\\nmethod\\nis\\nused\\nto\\nselect\\nand\\nmatch\\ndiﬀerent\\nprompt\\ncandidates\\nagainst\\neach\\nother.\\nThe\\nMonte\\nCarlo\\nmethod,\\nknown\\nfor\\nits\\napplications\\nin\\nproblem-solving\\nand\\ndecision-making\\nprocesses,\\nhelps\\nin\\noptimizing\\nthe\\ninformation\\ngained\\nfrom\\neach\\nprompt\\nbattle.\\nBy\\nsimulating\\nvarious', metadata={'source': '../data/Week-7.pdf', 'page': 6}),\n",
       " Document(page_content=\"matchups,\\nit\\nallows\\nthe\\nsystem\\nto\\ntest\\nthe\\neﬀectiveness\\nof\\neach\\nprompt\\nin\\ndiﬀerent\\nscenarios.\\n●\\nELO\\nRating\\nSystem:\\nThis\\nsystem,\\nwhich\\nis\\ncommonly\\nused\\nin\\nchess\\nand\\nother\\ncompetitive\\ngames,\\nrates\\nthe\\nprompts\\nbased\\non\\ntheir\\nperformance\\nin\\nthe\\nbattles.\\nEach\\nprompt\\ncandidate\\nis\\nassigned\\na\\nrating\\nthat\\nreﬂects\\nits\\nsuccess\\nin\\nprevious\\nmatchups.\\nThe\\nsystem\\ntakes\\ninto\\naccount\\nnot\\njust\\nthe\\nnumber\\nof\\nwins\\nbut\\nalso\\nthe\\nstrength\\nof\\nthe\\nopponents\\neach\\nprompt\\nhas\\ndefeated.\\nThis\\nrating\\nhelps\\nin\\nobjectively\\nranking\\nthe\\nprompts\\nbased\\non\\ntheir\\neﬀectiveness.\\nAdditional\\nRanking\\nand\\nMatching\\nMechanisms\\n●\\nTrueSkill\\nRating\\nSystem\\n:\\nIdeal\\nfor\\nscenarios\\ninvolving\\nmultiple\\ncompetitors,\\nadjusting\\nratings\\nbased\\non\\nnot\\njust\\nwins\\nand\\nlosses\\nbut\\nalso\\nthe\\nuncertainty\\nin\\nperformance.\\n●\\nGlicko\\nRating\\nSystem:\\nSimilar\\nto\\nELO\\nbut\\nwith\\nadded\\nﬂexibility,\\naccounting\\nfor\\nthe\\nvolatility\\nin\\na\\nplayer's\\n(or\\nprompt’s)\\nperformance\\nand\\nthe\\nreliability\\nof\\ntheir\\nrating.\\n●\\nBayesian\\nRating\\nSystems\\n:\\nApplies\\nBayesian\\ninference\\nfor\\na\\nprobabilistic\\napproach\\nto\\nrating,\\nconsidering\\nuncertainties\\nand\\ncontextual\\nvariations\\nin\\nprompt\\nperformance.\\n●\\nPairwise\\nComparison\\nMethods\\n:\\nInvolves\\ndirect\\ncomparisons\\nbetween\\npairs\\nof\\nprompts,\\npotentially\\nintegrating\\nuser\\npreferences\\nor\\nexpert\\nevaluations\\ninto\\nthe\\nranking\\nprocess.\\n●\\nCategorical\\nRanking\\n:\\nInstead\\nof\\na\\nnumerical\\nrating,\\nprompts\\nare\\ncategorized\\nbased\\non\\nperformance\\ncriteria\\nlike\\ncreativity,\\nrelevance,\\netc.,\\nfor\\nmore\\nqualitative\\nassessments.\\n●\\nAdaptive\\nRanking\\nAlgorithms\\n:\\nAlgorithms\\nthat\\nlearn\\nand\\nadjust\\nover\\ntime,\\nconsidering\\nhistorical\\nperformance\\ndata\\nand\\nevolving\\nuser\\npreferences\\nor\\nrequirements.\\n●\\nSemantic\\nSimilarity\\nMatching\\n:\\nUsing\\nNLP\\ntechniques\\nto\\nmatch\\nprompts\\nbased\\non\\nsemantic\\ncontent,\\nideal\\nfor\\nunderstanding\\nnuanced\\ndiﬀerences\\nin\\nprompt\\neﬀectiveness.\\nYou\\nshould\\nadopt\\nan\\ninnovative\\napproach\\nto\\nprompt\\nevaluation\\nby\\nutilizing\\nMonte\\nCarlo\\nmatchmaking\\nand\\nELO\\nrating\\nsystems,\\nor\\nany\\nalternative\\nmethod\\nto\\nmatch\\nand\\nrank.\\nTask\\n5:\\nUser\\nInterface\\nDevelopment\\nDevelop\\na\\nuser-friendly\\ninterface\\nfor\\ninteracting\\nwith\\nthe\\nprompt\\nengineering\\nsystem.\\n●\\nUI\\nDesign:\\nPlan\\nand\\ndesign\\na\\nuser\\ninterface\\nthat\\nallows\\nusers\\nto\\neasily\\ninput\\ndata,\\nreceive\\nprompts,\\nand\\nview\\nevaluation\\nresults.\\n●\\nUI\\nImplementation:\\nDevelop\\nand\\nintegrate\\nthe\\nuser\\ninterface\\nwith\\nthe\\nbackend\\nprompt\\nengineering\\nsystem.\\nTask\\n6:\\nSystem\\nIntegration\\nand\\nTesting\\n●\\nIntegrate\\nall\\ncomponents\\nof\\nthe\\nsystem\\nand\\nconduct\\ncomprehensive\\ntesting.\\n●\\nIntegrate\\nthe\\nprompt\\ngeneration,\\nEvaluation\\nData\\nGeneration,\\nevaluation,\\nand\\nuser\\ninterface\\ncomponents.\", metadata={'source': '../data/Week-7.pdf', 'page': 7}),\n",
       " Document(page_content='●\\nTest\\nthe\\nentire\\nsystem\\nfor\\nfunctionality,\\nusability,\\nand\\nperformance.\\nReﬁne\\nbased\\non\\nfeedback\\nand\\ntest\\nresults.', metadata={'source': '../data/Week-7.pdf', 'page': 8}),\n",
       " Document(page_content='Tutorials\\nSchedule\\nIn\\nthe\\nfollowing,\\nthe\\ncolour\\npurple\\nindicates\\nmorning\\nsessions,\\nand\\nblue\\nindicates\\nafternoon\\nsessions.\\nMonday:\\nUnderstanding\\nPrompt\\nengineering\\nHere\\nthe\\ntrainees\\nwill\\nunderstand\\nthe\\nweek’s\\nchallenge.\\n●\\nIntroduction\\nto\\nWeek\\nChallenge\\n(Yabebal)\\n●\\nIntroduction\\nand\\nchallenges\\nto\\nprompt\\nengineering\\n(Emtinan)\\nKey\\nPerformance\\nIndicators:\\n●\\nUnderstanding\\nweek’s\\nchallenge\\n●\\nUnderstanding\\nthe\\nprompt\\nengineering\\n●\\nAbility\\nto\\nreuse\\nprevious\\nknowledge\\nTuesday\\n●\\nRAG\\ncomponents\\n(Rehmet)\\n●\\nTechniques\\nto\\nimprove\\nR\\n(Retrievers)\\nin\\nRAG\\n(Emtinan)\\nKey\\nPerformance\\nIndicators:\\n●\\nUnderstanding\\nPrompt\\nranking\\n●\\nUnderstanding\\nprompt\\nmatching\\n●\\nAbility\\nto\\nreuse\\nprevious\\nknowledge\\nWednesday\\n●\\nRAG\\nEvaluation\\nData\\nGeneration\\n(Rehmet)\\n●\\nUnderstanding\\nof\\nprompt\\nmatching\\nand\\nranking\\n(Emtinan)\\nThursday\\n●\\nRAG\\nevaluation\\nmetrics\\n(Emtinan)\\n●\\nRAGOps\\n-\\nDevOps\\nof\\nRAG\\ndevelopment\\nand\\nproduction\\ndeployment\\n(Rehmet)', metadata={'source': '../data/Week-7.pdf', 'page': 9}),\n",
       " Document(page_content=\"Deliverables\\nNOTE:\\nDocument\\nshould\\nbe\\na\\nPDF\\nstored\\nin\\ngoogle\\ndrive\\nor\\npublished\\nblog\\nlink.\\nDO\\nNOT\\nSUBMIT\\nA\\nLINK\\nas\\nPDF!\\nIf\\nyou\\nwant\\nto\\nsubmit\\npdf\\ndocument,\\nit\\nshould\\nbe\\nthe\\ncontent\\nof\\nyour\\nreport\\nnot\\na\\nlink.\\nInterim\\nSubmission\\n-\\nWednesday\\n8pm\\nUTC\\n●\\nLink\\nto\\nyour\\ncode\\nin\\nGitHub\\n○\\nRepository\\nwhere\\nyou\\nwill\\nbe\\nusing\\nto\\ncomplete\\nthe\\ntasks\\nin\\nthis\\nweek's\\nchallenge.\\nA\\nminimum\\nrequirement\\nis\\nthat\\nyou\\nhave\\na\\nwell\\nstructured\\nrepository\\nand\\nsome\\ncoding\\nprogress\\nis\\nmade.\\n●\\nA\\nreview\\nreport\\nof\\nyour\\nreading\\nand\\nunderstanding\\nof\\nTask\\n1\\nand\\nany\\nprogress\\nyou\\nmade\\nin\\nother\\ntasks.\\nFeedback\\nYou\\nmay\\nnot\\nreceive\\ndetailed\\ncomments\\non\\nyour\\ninterim\\nsubmission\\nbut\\nwill\\nreceive\\na\\ngrade.\\nFinal\\nSubmission\\n-\\nSaturday\\n8pm\\nUTC\\n●\\nLink\\nto\\nyour\\ncode\\nin\\nGitHub\\n○\\nComplete\\nwork\\nfor\\nAutomatic\\nprompt\\ngeneration\\n○\\nComplete\\nwork\\nfor\\nAutomatic\\nevaluation\\n○\\nComplete\\nwork\\nfor\\nEvaluation\\nData\\nGeneration\\n●\\nA\\nblog\\npost\\nentry\\n(which\\nyou\\ncan\\nsubmit\\nfor\\nexample\\nto\\nMedium\\npublishing)\\nor\\na\\npdf\\nreport.\\nFeedback\\nYou\\nwill\\nreceive\\ncomments/feedback\\nin\\naddition\\nto\\na\\ngrade.\", metadata={'source': '../data/Week-7.pdf', 'page': 10}),\n",
       " Document(page_content='References\\n●\\nMeistrari\\ndidn’t\\nsee\\na\\ngood\\nsolution\\nfor\\nprompt\\nengineering,\\nso\\nit’s\\nbuilding\\none\\n●\\nAutoPrompt:\\nEliciting\\nKnowledge\\nfrom\\nLanguage\\nModels\\nwith\\nAutomatically\\nGenerated\\nPrompts\\n●\\nLarge\\nLanguage\\nModels\\nAre\\nHuman-Level\\nPrompt\\nEngineers\\n●\\nPrompt\\nEngineering\\n●\\nHow\\nto\\nCreate\\na\\nMonte\\nCarlo\\nSimulation\\nusing\\nPython\\n●\\nMonte\\nCarlo\\nMethod\\nExplained\\n●\\nWhat\\nis\\nMonte\\nCarlo\\nSimulation?\\nHow\\ndoes\\nit\\nwork?\\n●\\nElo\\nRating\\nAlgorithm\\n●\\nElo\\nalgorithm\\nimplementation\\nin\\nPython\\n●\\nTrueSkillTM:\\nA\\nBayesian\\nskill\\nrating\\nsystem\\nCompanies\\ndoing\\nsomething\\nsimilar\\nto\\nthis\\nproject\\n●\\nAI\\nPrompt\\nGenerator\\n(promptlygenerated.com)', metadata={'source': '../data/Week-7.pdf', 'page': 11})]"
      ]
     },
     "execution_count": 108,
     "metadata": {},
     "output_type": "execute_result"
    }
   ],
   "source": [
    "#load the data\n",
    "loader = PyPDFLoader(\"../data/Week-7.pdf\")\n",
    "documents = loader.load()\n",
    "documents"
   ]
  },
  {
   "cell_type": "code",
   "execution_count": 109,
   "metadata": {},
   "outputs": [],
   "source": [
    "import os\n",
    "from dotenv import load_dotenv\n",
    "\n",
    "load_dotenv()  # Load the .env file\n",
    "\n",
    "OPENAI_API_KEY = os.getenv(\"OPENAI_API_KEY\")  # Get the API key from the environment\n",
    "\n",
    "# # Use the api_key variable in your code\n"
   ]
  },
  {
   "cell_type": "code",
   "execution_count": 110,
   "metadata": {},
   "outputs": [
    {
     "data": {
      "text/plain": [
       "[Document(page_content='evaluate\\n10\\nAcademy\\nCohort\\nB\\nWeekly\\nChallenge:\\nWeek\\n7\\nPrecision\\nRAG:\\nPrompt\\nTuning\\nFor\\nBuilding\\nEnterprise\\nGrade\\nRAG\\nSystems\\nBusiness\\nobjective\\nPromptlyTech\\nis\\nan\\ninnovative\\ne-business\\nspecializing\\nin\\nproviding\\nAI-driven\\nsolutions\\nfor\\noptimizing\\nthe\\nuse\\nof\\nLanguage\\nModels\\n(LLMs)\\nin\\nvarious', metadata={'source': '../data/Week-7.pdf', 'page': 0, 'start_index': 0}),\n",
       " Document(page_content='in\\nproviding\\nAI-driven\\nsolutions\\nfor\\noptimizing\\nthe\\nuse\\nof\\nLanguage\\nModels\\n(LLMs)\\nin\\nvarious\\nindustries.\\nThe\\ncompany\\naims\\nto\\nrevolutionize\\nhow\\nbusinesses\\ninteract\\nwith\\nLLMs,\\nmaking\\nthe\\ntechnology\\nmore\\naccessible,\\neﬃcient,\\nand\\neﬀective.\\nBy\\naddressing\\nthe\\nchallenges\\nof\\nprompt\\nengineering,\\nthe\\ncompany', metadata={'source': '../data/Week-7.pdf', 'page': 0, 'start_index': 198}),\n",
       " Document(page_content=\"accessible,\\neﬃcient,\\nand\\neﬀective.\\nBy\\naddressing\\nthe\\nchallenges\\nof\\nprompt\\nengineering,\\nthe\\ncompany\\nplays\\na\\npivotal\\nrole\\nin\\nenhancing\\ndecision-making,\\noperational\\neﬃciency,\\nand\\ncustomer\\nexperience\\nacross\\nvarious\\nindustries.\\nPromptlyTech's\\nsolutions\\nare\\ndesigned\\nto\\ncater\\nto\\nthe\\nevolving\\nneeds\\nof\\na\", metadata={'source': '../data/Week-7.pdf', 'page': 0, 'start_index': 399}),\n",
       " Document(page_content=\"various\\nindustries.\\nPromptlyTech's\\nsolutions\\nare\\ndesigned\\nto\\ncater\\nto\\nthe\\nevolving\\nneeds\\nof\\na\\ndigitally-driven\\nbusiness\\nlandscape,\\nwhere\\nspeed\\nand\\naccuracy\\nare\\nkey\\nto\\nstaying\\ncompetitive.\\nThe\\ncompany\\nfocuses\\non\\nkey\\nservices:\\nAutomatic\\nPrompt\\nGeneration,\\nAutomatic\\nEvaluation\\nData\\nGeneration,\\nand\", metadata={'source': '../data/Week-7.pdf', 'page': 0, 'start_index': 602}),\n",
       " Document(page_content='focuses\\non\\nkey\\nservices:\\nAutomatic\\nPrompt\\nGeneration,\\nAutomatic\\nEvaluation\\nData\\nGeneration,\\nand\\nPrompt\\nTesting\\nand\\nRanking.\\n1.\\nAutomatic\\nPrompt\\nGeneration\\nService:\\n●\\nThis\\nservice\\nstreamlines\\nthe\\nprocess\\nof\\ncreating\\neﬀective\\nprompts,\\nenabling\\nbusinesses\\nto\\neﬃciently\\nutilize\\nLLMs\\nfor\\ngenerating', metadata={'source': '../data/Week-7.pdf', 'page': 0, 'start_index': 802}),\n",
       " Document(page_content='process\\nof\\ncreating\\neﬀective\\nprompts,\\nenabling\\nbusinesses\\nto\\neﬃciently\\nutilize\\nLLMs\\nfor\\ngenerating\\nhigh-quality,\\nrelevant\\ncontent.\\nIt\\nsigniﬁcantly\\nreduces\\nthe\\ntime\\nand\\nexpertise\\nrequired\\nin\\ncrafting\\nprompts\\nmanually.\\n2.\\nAutomatic\\nEvaluation\\nData\\nGeneration\\nService:', metadata={'source': '../data/Week-7.pdf', 'page': 0, 'start_index': 997}),\n",
       " Document(page_content='●\\nPromptlyTech’s\\nservice\\nautomates\\nthe\\ngeneration\\nof\\ndiverse\\ntest\\ncases,\\nensuring\\ncomprehensive\\ncoverage\\nand\\nidentifying\\npotential\\nissues.\\nThis\\nenhances\\nthe\\nreliability\\nand\\nperformance\\nof\\nLLM\\napplications,\\nsaving\\nsigniﬁcant\\ntime\\nin\\nthe\\nQA(Quality\\nAssurance)\\nprocess.\\n3.\\nPrompt\\nTesting\\nand\\nRanking', metadata={'source': '../data/Week-7.pdf', 'page': 1, 'start_index': 0}),\n",
       " Document(page_content='saving\\nsigniﬁcant\\ntime\\nin\\nthe\\nQA(Quality\\nAssurance)\\nprocess.\\n3.\\nPrompt\\nTesting\\nand\\nRanking\\nService:\\n●\\nPromptlyTech’s\\nservice\\nevaluates\\nand\\nranks\\ndiﬀerent\\nprompts\\nbased\\non\\neﬀectiveness,\\nhelping\\nUsers\\nto\\nget\\nthe\\ndesired\\noutcome\\nfrom\\nLLM.\\nIt\\nensures\\nthat\\nchatbots\\nand\\nvirtual\\nassistants\\nprovide', metadata={'source': '../data/Week-7.pdf', 'page': 1, 'start_index': 206}),\n",
       " Document(page_content='Users\\nto\\nget\\nthe\\ndesired\\noutcome\\nfrom\\nLLM.\\nIt\\nensures\\nthat\\nchatbots\\nand\\nvirtual\\nassistants\\nprovide\\naccurate,\\ncontextually\\nrelevant\\nresponses,\\nthereby\\nimproving\\nuser\\nengagement\\nand\\nsatisfaction.\\nBackground\\nContext\\nIn\\nthe\\nevolving\\nﬁeld\\nof\\nartiﬁcial\\nintelligence,\\nLanguage\\nModels\\n(LLMs)\\nlike\\nGPT-3.5', metadata={'source': '../data/Week-7.pdf', 'page': 1, 'start_index': 399}),\n",
       " Document(page_content='Context\\nIn\\nthe\\nevolving\\nﬁeld\\nof\\nartiﬁcial\\nintelligence,\\nLanguage\\nModels\\n(LLMs)\\nlike\\nGPT-3.5\\nand\\nGPT-4\\nhave\\nbecome\\ncrucial\\nfor\\nvarious\\napplications.\\nTheir\\neﬀectiveness,\\nhowever,\\nheavily\\ndepends\\non\\nthe\\nquality\\nof\\nthe\\nprompts\\nthey\\nreceive,\\nleading\\nto\\nthe\\nemergence\\nof\\n\"prompt\\nengineering\"\\nas\\na\\nkey', metadata={'source': '../data/Week-7.pdf', 'page': 1, 'start_index': 604}),\n",
       " Document(page_content='the\\nquality\\nof\\nthe\\nprompts\\nthey\\nreceive,\\nleading\\nto\\nthe\\nemergence\\nof\\n\"prompt\\nengineering\"\\nas\\na\\nkey\\nskill.\\nPrompt\\nengineering\\nis\\nthe\\ncraft\\nof\\ndesigning\\nqueries\\nor\\nstatements\\nto\\nguide\\nLLMs\\nto\\nproduce\\ndesired\\noutcomes.\\nThe\\nchallenge\\nlies\\nin\\nthe\\nsensitivity\\nof\\nthese\\nmodels\\nto\\nprompt\\nnuances,\\nwhere', metadata={'source': '../data/Week-7.pdf', 'page': 1, 'start_index': 800}),\n",
       " Document(page_content='desired\\noutcomes.\\nThe\\nchallenge\\nlies\\nin\\nthe\\nsensitivity\\nof\\nthese\\nmodels\\nto\\nprompt\\nnuances,\\nwhere\\nslight\\nvariations\\ncan\\nyield\\nvastly\\ndiﬀerent\\nresults.\\nThis\\nposes\\na\\nsigniﬁcant\\nhurdle\\nfor\\nusers,\\nespecially\\nin\\nbusiness\\ncontexts\\nwhere\\naccuracy\\nand\\nrelevance\\nare\\nparamount.\\nThe\\nneed\\nfor\\nsimpliﬁed,\\neﬃcient', metadata={'source': '../data/Week-7.pdf', 'page': 1, 'start_index': 998}),\n",
       " Document(page_content='in\\nbusiness\\ncontexts\\nwhere\\naccuracy\\nand\\nrelevance\\nare\\nparamount.\\nThe\\nneed\\nfor\\nsimpliﬁed,\\neﬃcient\\nprompt\\nengineering\\nis\\nclear.\\nAutomating\\nand\\noptimizing\\nthis\\nprocess\\ncan\\nsave\\ntime,\\nenhance\\nLLM\\nproductivity,\\nand\\nmake\\nadvanced\\nAI\\ncapabilities\\nmore\\naccessible\\nto\\na\\nbroader\\nrange\\nof\\nusers.\\nThe\\ntasks\\nof', metadata={'source': '../data/Week-7.pdf', 'page': 1, 'start_index': 1201}),\n",
       " Document(page_content='and\\nmake\\nadvanced\\nAI\\ncapabilities\\nmore\\naccessible\\nto\\na\\nbroader\\nrange\\nof\\nusers.\\nThe\\ntasks\\nof\\nAutomatic\\nPrompt\\nGeneration,\\nEvaluation\\nData\\nGeneration,\\nand\\nPrompt\\nTesting\\nand\\nRanking\\nare\\naimed\\nat\\naddressing\\nthese\\nchallenges,\\nstreamlining\\nthe\\nprompt\\nengineering\\nprocess\\nfor\\nmore\\neﬀective\\nuse\\nof\\nLLMs.', metadata={'source': '../data/Week-7.pdf', 'page': 1, 'start_index': 1407}),\n",
       " Document(page_content='these\\nchallenges,\\nstreamlining\\nthe\\nprompt\\nengineering\\nprocess\\nfor\\nmore\\neﬀective\\nuse\\nof\\nLLMs.\\nLearning\\nOutcomes\\nSkills\\nDevelopment\\n●\\nPrompt\\nEngineering\\nProﬁciency:\\nGain\\nexpertise\\nin\\ncrafting\\neﬀective\\nprompts\\nthat\\nguide\\nLLMs\\nto\\ndesired\\noutputs,\\nunderstanding\\nnuances\\nand\\nvariations\\nin\\nlanguage\\nthat', metadata={'source': '../data/Week-7.pdf', 'page': 1, 'start_index': 1611}),\n",
       " Document(page_content='prompts\\nthat\\nguide\\nLLMs\\nto\\ndesired\\noutputs,\\nunderstanding\\nnuances\\nand\\nvariations\\nin\\nlanguage\\nthat\\nimpact\\nmodel\\nresponses.\\n●\\nCritical\\nAnalysis:\\nDevelop\\nthe\\nability\\nto\\ncritically\\nanalyze\\nand\\nevaluate\\nthe\\neﬀectiveness\\nof\\ndiﬀerent\\nprompts\\nbased\\non\\ntheir\\nperformance\\nin\\nvaried\\nscenarios.\\n●\\nTechnical', metadata={'source': '../data/Week-7.pdf', 'page': 1, 'start_index': 1810}),\n",
       " Document(page_content='the\\neﬀectiveness\\nof\\ndiﬀerent\\nprompts\\nbased\\non\\ntheir\\nperformance\\nin\\nvaried\\nscenarios.\\n●\\nTechnical\\nAptitude\\nwith\\nLLMs:\\nEnhance\\ntechnical\\nskills\\nin\\nusing\\nadvanced\\nlanguage\\nmodels\\nlike\\nGPT-4\\nand\\nGPT-3.5-Turbo,\\nunderstanding\\ntheir\\nfunctionalities\\nand\\ncapabilities.\\n●\\nProblem-Solving\\nand\\nCreativity:', metadata={'source': '../data/Week-7.pdf', 'page': 1, 'start_index': 2008}),\n",
       " Document(page_content='understanding\\ntheir\\nfunctionalities\\nand\\ncapabilities.\\n●\\nProblem-Solving\\nand\\nCreativity:\\nCultivate\\ncreative\\nproblem-solving\\nskills\\nby\\ngenerating\\ninnovative\\nprompts\\nand\\ntest\\ncases,\\naddressing\\ncomplex\\nand\\nvaried\\nobjectives.', metadata={'source': '../data/Week-7.pdf', 'page': 1, 'start_index': 2214}),\n",
       " Document(page_content='●\\nData\\nInterpretation:\\nLearn\\nto\\ninterpret\\nand\\nanalyze\\ndata\\nfrom\\ntest\\ncases\\nand\\nprompt\\nevaluations,\\nderiving\\nmeaningful\\ninsights\\nfrom\\nperformance\\nmetrics.\\nKnowledge\\nAcquisition\\n●\\nUnderstanding\\nof\\nLanguage\\nModels:\\nAcquire\\na\\ndeeper\\nunderstanding\\nof\\nhow\\nLLMs\\nfunction,\\nincluding\\ntheir\\nstrengths,', metadata={'source': '../data/Week-7.pdf', 'page': 2, 'start_index': 0}),\n",
       " Document(page_content='of\\nLanguage\\nModels:\\nAcquire\\na\\ndeeper\\nunderstanding\\nof\\nhow\\nLLMs\\nfunction,\\nincluding\\ntheir\\nstrengths,\\nlimitations,\\nand\\nthe\\nprinciples\\nbehind\\ntheir\\nresponses.\\n●\\nInsights\\ninto\\nAutomated\\nEvaluation\\nData\\nGeneration:\\nGain\\nknowledge\\nabout\\nthe\\nmethodology\\nand\\nimportance\\nof\\ncreating\\ntest\\ncases\\nfor\\nevaluating', metadata={'source': '../data/Week-7.pdf', 'page': 2, 'start_index': 192})]"
      ]
     },
     "execution_count": 110,
     "metadata": {},
     "output_type": "execute_result"
    }
   ],
   "source": [
    "from langchain.text_splitter import RecursiveCharacterTextSplitter\n",
    "text_splitter = RecursiveCharacterTextSplitter(\n",
    "        chunk_size=300,\n",
    "        chunk_overlap=100,\n",
    "        length_function=len,\n",
    "        add_start_index=True,\n",
    "    )\n",
    "chunks = text_splitter.split_documents(documents)\n",
    "chunks[:20]"
   ]
  },
  {
   "cell_type": "code",
   "execution_count": 111,
   "metadata": {},
   "outputs": [
    {
     "name": "stdout",
     "output_type": "stream",
     "text": [
      "Split 12 documents into 86 chunks.\n"
     ]
    }
   ],
   "source": [
    "print(f\"Split {len(documents)} documents into {len(chunks)} chunks.\")"
   ]
  },
  {
   "cell_type": "code",
   "execution_count": 112,
   "metadata": {},
   "outputs": [
    {
     "name": "stdout",
     "output_type": "stream",
     "text": [
      "{'source': '../data/Week-7.pdf', 'page': 1, 'start_index': 800}\n",
      "the\n",
      "quality\n",
      "of\n",
      "the\n",
      "prompts\n",
      "they\n",
      "receive,\n",
      "leading\n",
      "to\n",
      "the\n",
      "emergence\n",
      "of\n",
      "\"prompt\n",
      "engineering\"\n",
      "as\n",
      "a\n",
      "key\n",
      "skill.\n",
      "Prompt\n",
      "engineering\n",
      "is\n",
      "the\n",
      "craft\n",
      "of\n",
      "designing\n",
      "queries\n",
      "or\n",
      "statements\n",
      "to\n",
      "guide\n",
      "LLMs\n",
      "to\n",
      "produce\n",
      "desired\n",
      "outcomes.\n",
      "The\n",
      "challenge\n",
      "lies\n",
      "in\n",
      "the\n",
      "sensitivity\n",
      "of\n",
      "these\n",
      "models\n",
      "to\n",
      "prompt\n",
      "nuances,\n",
      "where\n"
     ]
    }
   ],
   "source": [
    "document = chunks[10]\n",
    "print(document.metadata)\n",
    "print(document.page_content)\n"
   ]
  },
  {
   "cell_type": "code",
   "execution_count": 113,
   "metadata": {},
   "outputs": [],
   "source": [
    "from langchain_openai import OpenAIEmbeddings\n",
    "from langchain_community.vectorstores import Chroma\n",
    "from langchain_openai import OpenAIEmbeddings\n",
    "import pandas as pd\n",
    "import openai "
   ]
  },
  {
   "cell_type": "code",
   "execution_count": 114,
   "metadata": {},
   "outputs": [],
   "source": [
    "embeddings = OpenAIEmbeddings(api_key=os.getenv(\"OPENAI_API\"))\n"
   ]
  },
  {
   "cell_type": "code",
   "execution_count": 115,
   "metadata": {},
   "outputs": [],
   "source": [
    "all_embeddings = []"
   ]
  },
  {
   "cell_type": "code",
   "execution_count": 116,
   "metadata": {},
   "outputs": [],
   "source": [
    "# 3. Generate Embeddings and Store Data\n",
    "for chunk in chunks:\n",
    "    embedding = embeddings.embed_query(chunk.page_content)\n",
    "    all_embeddings.append({\n",
    "        \"id\": chunk.metadata.get(\"id\", None),  # Assuming you have an \"id\" in your metadata\n",
    "        \"text\": chunk.page_content,\n",
    "        \"embedding\": embedding,\n",
    "    })\n",
    "\n",
    "# 4. Create a DataFrame from the Embeddings\n",
    "df = pd.DataFrame(all_embeddings)\n",
    "\n",
    "# 5. Save the DataFrame to a CSV file\n"
   ]
  },
  {
   "cell_type": "code",
   "execution_count": 118,
   "metadata": {},
   "outputs": [],
   "source": [
    "embedding_function = OpenAIEmbeddings(api_key=os.getenv(\"OPENAI_API\"))\n",
    "\n",
    "vector = embedding_function.embed_query(\"apple\")"
   ]
  },
  {
   "cell_type": "code",
   "execution_count": 119,
   "metadata": {},
   "outputs": [
    {
     "name": "stdout",
     "output_type": "stream",
     "text": [
      "[0.007711198180913925, -0.023140424862504005, -0.0076087461784482, -0.02779856137931347, -0.004685457795858383, 0.013025025837123394, -0.021979305893182755, -0.008435189723968506, 0.018946735188364983, -0.02956073172390461, -0.0029506089631468058, 0.020025892183184624, -0.004381517879664898, 0.009193332865834236, -0.021624138578772545, 0.002018298488110304, 0.0307081900537014, 9.983704512706026e-05, 0.00207123183645308, -0.025530964136123657, -0.021077729761600494, -0.00821662601083517, 0.021473877131938934, -0.012533257715404034, 0.0010270782513543963, 0.005071359220892191, 0.010197359137237072, 5.050548861618154e-05, 0.01599612645804882, -0.013018196448683739, 0.020503999665379524, -0.01614638790488243, -0.018400326371192932, 0.005457260645925999, -0.019383862614631653, -0.009056730195879936, -0.012048319913446903, -0.0086674140766263, -0.005628013517707586, -0.006167592480778694, 0.010573015548288822, 0.007601916324347258, -0.006413476541638374, 0.0007995501509867609, -0.023331668227910995, 0.011194556020200253, -0.021870022639632225, -0.0005318950861692429, -0.012820122763514519, 0.015326774679124355, -0.005573372356593609, -0.001997808227315545, -0.01484866626560688, -0.005252357106655836, -0.002884015440940857, 0.002752535743638873, -0.019534124061465263, 0.006454457063227892, -0.010743767954409122, 0.004972322378307581, 0.005365054123103619, 0.01510821096599102, -0.02790784277021885, 0.005378714296966791, -0.009193332865834236, 0.003838523756712675, -0.01343483291566372, -0.00860594306141138, 0.013031856156885624, 0.01568194106221199, 0.03363147750496864, 0.013236760161817074, 0.01400173269212246, 0.006601304747164249, 0.004289311356842518, 0.0014351776335388422, -0.033850040286779404, -0.006184667814522982, -0.003119654254987836, 0.018154442310333252, 0.00767021719366312, -0.026541821658611298, 0.009671440348029137, 0.024970894679427147, 0.024847952648997307, 0.009828533045947552, -0.021446555852890015, 0.010006115771830082, -0.007697538007050753, 0.003150389762595296, 0.011850247159600258, 0.005375299137085676, 0.007622406352311373, 0.0164469126611948, -0.026910647749900818, 0.0167201180011034, -0.012779141776263714, 0.026432538405060768, 0.004764004144817591, -0.037183135747909546, 0.0009997579036280513, 0.006051480304449797, -0.02874111756682396, -0.010361282154917717, -0.020258115604519844, 0.0019653651397675276, 0.012601559050381184, -0.0036404505372047424, 0.01546337641775608, -0.019930271431803703, 0.006505683064460754, 0.009329934604465961, 0.022033946588635445, -0.051717620342969894, -0.01640593260526657, -0.017362147569656372, -0.009575818665325642, 0.002190758939832449, -0.022839900106191635, -0.035680513828992844, 0.034095924347639084, 0.025886129587888718, 0.038248635828495026, -0.00879718642681837, 0.013298231177031994, -0.003561904188245535, -0.017730973660945892, -0.009603139013051987, -0.0008981599239632487, -0.01404271274805069, 0.04715510457754135, 0.008209796622395515, 0.019479483366012573, 0.01652887463569641, -0.017826596274971962, 0.019616086035966873, -0.022225189954042435, 0.0156955998390913, -0.005641673691570759, -0.03363147750496864, 0.010395432822406292, 0.014712064526975155, -0.012301034294068813, 0.00706233736127615, -0.011174065992236137, 0.023673173040151596, 0.023645851761102676, 0.022689636796712875, -0.005460675805807114, 0.007164788898080587, 0.010750598274171352, -0.024192262440919876, -0.00399561645463109, 0.005477751139551401, 0.0018287628190591931, 0.005484580993652344, -0.01721188612282276, -0.001987562980502844, -0.0038248635828495026, 0.0037326570600271225, -0.006474947556853294, 0.00867424439638853, -0.006823283154517412, -0.008851827122271061, 0.0016298358095809817, 0.024506447836756706, 0.011768285185098648, 0.013516794890165329, -0.01620102860033512, -0.009541667997837067, -0.01633763127028942, 0.004016106482595205, -0.010532034561038017, 0.012697180733084679, 0.008913298137485981, 0.01599612645804882, 0.004374687559902668, 0.012663030065596104, -0.0065671540796756744, 0.0008033920894376934, 0.001236250507645309, -0.004668382462114096, 0.023154083639383316, 0.019165297970175743, -0.0168567206710577, 0.014889647252857685, 0.004620571620762348, -0.010552525520324707, 0.005508486647158861, -0.019342880696058273, 0.03215617313981056, 0.020435700193047523, -0.0039580506272614, -0.01437055878341198, -0.6845412850379944, -0.020626941695809364, 0.005791936069726944, -0.000149195286212489, 0.03401396423578262, 0.03191028907895088, 0.022293489426374435, -0.0012618635082617402, -0.018468625843524933, -0.010279321111738682, 0.0018697435734793544, 0.0032135683577507734, 0.008885977789759636, 0.009698760695755482, -9.530142415314913e-05, -0.022402772679924965, 0.01648789457976818, -0.024205921217799187, -0.010340792126953602, 0.024738671258091927, -0.012027829885482788, -0.014520821161568165, -0.008742544800043106, -0.02967001311480999, 0.00358922453597188, 0.019506804645061493, 0.019902950152754784, -0.01405637338757515, -0.019793668761849403, 0.021856362000107765, -0.0082234563305974, -0.0008238824084401131, 0.027334114536643028, 0.0059012179262936115, 0.037374380975961685, 0.007198939565569162, -0.04425913468003273, 0.01387196034193039, 0.009712421335279942, 0.03415056690573692, -0.020859166979789734, -0.020572301000356674, 0.013605586253106594, -0.006451041903346777, -0.01595514453947544, -0.0010193943744525313, 0.013127477839589119, 0.005614353343844414, -0.000731675885617733, -0.025517303496599197, 0.0349428616464138, -3.367032331880182e-05, 0.010743767954409122, 0.00841469969600439, 0.021842703223228455, 0.008749375119805336, 0.023126764222979546, -0.009022579528391361, -0.001501771155744791, 0.01654253527522087, -0.022430092096328735, -0.0033570006489753723, -0.0349428616464138, -0.025353381410241127, -0.020503999665379524, 0.010798409581184387, -0.009247973561286926, 0.007895611226558685, 0.005436770152300596, -0.019506804645061493, 0.021583158522844315, 0.022430092096328735, -0.023345327004790306, -0.007014526519924402, -0.003261379199102521, 0.017047962173819542, 0.023604871705174446, -0.0014360313070937991, -0.027088230475783348, 0.004883531015366316, -0.0021241651847958565, -0.009302614256739616, 0.005006473045796156, -0.02778490073978901, 0.03155512362718582, 0.005552882328629494, -0.024137619882822037, -0.011337988078594208, 0.014029053039848804, -0.023878077045083046, 0.034232527017593384, 0.023919057101011276, 0.0027593658305704594, -0.019206278026103973, -0.01443886011838913, -0.005289922934025526, -0.03251133859157562, -0.019411182031035423, -0.0024041999131441116, -0.019820990040898323, 0.01667913608253002, -0.005638258531689644, 0.009473367594182491, 0.006775472313165665, 0.023768793791532516, 0.013400682248175144, -0.019274579361081123, 0.01467108353972435, 0.036746010184288025, -0.020490340888500214, -0.007718028035014868, -0.012505937367677689, 0.008523981086909771, -0.008530811406672001, 0.025681225582957268, -0.03103603608906269, 0.010730108246207237, -0.007656557019799948, 0.021146031096577644, -0.03286650404334068, 0.025585604831576347, -0.004402007907629013, 0.011966358870267868, 0.0029847596306353807, -0.010695957578718662, 0.018277384340763092, -0.004299556370824575, -0.03073550947010517, -0.003537998767569661, -0.006007084622979164, 0.00811417493969202, 0.005262602586299181, 0.007267240900546312, -0.006051480304449797, 0.023932717740535736, 0.00025122010265477, 0.009685100987553596, -0.020640602335333824, 0.011986848898231983, -0.025011874735355377, -0.01689770072698593, 0.00818247627466917, 0.0005067090387456119, -0.0005750101990997791, 0.0013839517487213016, -0.012212242931127548, -0.02833130955696106, -0.01702064275741577, -0.010873540304601192, 0.005231867078691721, -0.009002089500427246, 0.005634843371808529, -0.0017894897609949112, 0.021637799218297005, 0.022744277492165565, -0.01570926047861576, 0.002803761512041092, -0.023481929674744606, 0.0009399943519383669, 0.01640593260526657, 0.010040266439318657, 0.02844059281051159, -0.008851827122271061, 0.00420393468812108, 0.01509455032646656, -0.035844434052705765, 0.00671741645783186, 0.0017502165865153074, -0.017703654244542122, -0.02926020510494709, 0.013332381844520569, -0.01676109805703163, -0.008312247693538666, 0.00817564595490694, -0.014643763191998005, 0.003961465787142515, -0.01486232690513134, 0.00749263446778059, 0.010142718441784382, 0.002533972030505538, 0.005310412961989641, 0.008967938832938671, 0.002313700970262289, 0.0018629134865477681, 0.03092675283551216, 0.020258115604519844, 0.0014966486487537622, 0.04794739559292793, -0.020121514797210693, 0.0008836459019221365, -0.013728528283536434, 0.019793668761849403, 0.005532391835004091, 0.0017049671150743961, -0.01394709199666977, -0.008257606998085976, -0.005914878100156784, 0.013516794890165329, -0.0009698761277832091, 0.011419950053095818, 0.024014677852392197, -0.0026022731326520443, 0.011242366395890713, -0.0020114684011787176, 0.013714867644011974, -0.03278454393148422, 0.004002446308732033, -0.005399204790592194, 0.011119424365460873, 0.034642335027456284, -0.0022932104766368866, -0.02857719361782074, -0.006522758398205042, -0.020490340888500214, 0.012355674989521503, 0.03415056690573692, 0.0023154085502028465, 0.012034660205245018, 0.000843518995679915, -0.00812100525945425, 0.0016281282296404243, -0.004825475160032511, 0.00039806755376048386, -0.003561904188245535, -0.00767021719366312, 0.003334802808240056, 0.009985625743865967, 0.03335827216506004, -0.0033091900404542685, -0.026186654344201088, -0.003380906069651246, -0.004859625827521086, -0.009548498317599297, -0.012587899342179298, 0.00427223602309823, 0.01480768620967865, 0.00418002950027585, -0.010921351611614227, 0.022348131984472275, -0.0009109663660638034, -0.01405637338757515, 0.014630102552473545, 0.026705743744969368, -0.002059279242530465, 0.007642896845936775, -0.013202609494328499, 0.04587104171514511, 0.00824394728988409, -0.004139048513025045, -0.0024810386821627617, -0.003333095461130142, -0.025845149531960487, -0.0308447927236557, 0.010525205172598362, -0.0009288954315707088, -0.024547427892684937, 0.023577552288770676, 0.022607674822211266, 0.022921860218048096, 0.04078943654894829, 0.003246011445298791, -0.003488480346277356, -0.013045516796410084, 0.0060651409439742565, -0.020558642223477364, -0.00024481688160449266, -0.0013549237046390772, -0.01361241564154625, 0.0027969314251095057, 0.004415668547153473, 0.013462153263390064, -0.00025335451937280595, 0.024806972593069077, -0.010094908066093922, 0.006765227299183607, 0.0009254803881049156, -0.017853915691375732, 0.005006473045796156, 0.005412864964455366, -0.012314694933593273, -0.021760741248726845, -0.02732045389711857, 0.008885977789759636, 0.003869259264320135, -0.006918904837220907, 0.008913298137485981, -0.02904164232313633, -0.006092461291700602, -0.005802181549370289, 0.01479402557015419, -0.0034099342301487923, 0.021665120497345924, 0.008373718708753586, 0.020012231543660164, 0.020476680248975754, -0.01374901831150055, 0.0313911996781826, -0.010777918621897697, 0.005098679568618536, -0.006171007640659809, 0.0001624286378500983, 0.004757173825055361, -0.019506804645061493, -0.004043427295982838, 0.039396096020936966, -0.004859625827521086, -0.005863652564585209, -0.024424485862255096, 0.012710841372609138, -0.0022317394614219666, -0.025558283552527428, 0.004794739652425051, -0.01591416448354721, -0.018236402422189713, -0.0028362045995891094, 0.01662449538707733, -0.005440185312181711, -0.01707528345286846, 0.04076211526989937, -0.0024742085952311754, -0.012464957311749458, -0.017867576330900192, -0.014411539770662785, 0.00803904328495264, 0.064968042075634, 0.025640245527029037, -0.010846219956874847, 0.023686833679676056, -0.005494826473295689, 0.02779856137931347, -0.011850247159600258, -0.00674815196543932, 0.0292055644094944, -0.0009126738877967, -0.0013626075815409422, -0.009008919820189476, 0.01467108353972435, -0.018673529848456383, 0.023891735821962357, 0.011331157758831978, -0.0023461440578103065, -0.020189816132187843, -0.005498241167515516, -0.008148325607180595, 0.0006497145514003932, -0.01454814150929451, 0.010743767954409122, 0.005477751139551401, 0.01710260473191738, 0.005628013517707586, 0.018591567873954773, 0.02917824499309063, -0.0051430752500891685, -0.024670369923114777, -0.006174422334879637, -0.006379325874149799, 0.015203832648694515, -0.006543248426169157, -0.0018612059066072106, 0.022443752735853195, 0.01726652681827545, 0.01600978523492813, 0.005921708419919014, 0.005388959310948849, 0.012219073250889778, 0.010497883893549442, -0.0036506955511868, -0.026132013648748398, 0.007403843104839325, -0.011508741416037083, -0.014657423831522465, 0.03264794126152992, -0.0010876955930143595, -0.013728528283536434, 0.024602068588137627, 0.01628299057483673, 0.0051772259175777435, -0.0052113765850663185, -0.00021440153068397194, 0.02692430652678013, -0.007403843104839325, 0.0031930780969560146, 0.010340792126953602, -0.025872468948364258, -0.005433354992419481, -0.019943932071328163, 0.0031862480100244284, 0.014507160522043705, -0.0013002828927710652, -0.005785106215626001, -0.011392628774046898, -0.018523268401622772, -0.006649115588515997, -0.011447270400822163, -0.0009058438008651137, -0.026405218988656998, -0.011235537007451057, 0.007820479571819305, 0.03305774927139282, 0.008271267637610435, 0.020790865644812584, 0.005802181549370289, 0.00696330051869154, 0.0349428616464138, -0.008073193952441216, -0.01491696760058403, 0.0046137417666614056, -0.014397879131138325, -0.023099442943930626, 0.018892094492912292, -0.0019243845017626882, -0.013147967867553234, 0.011850247159600258, 0.008660583756864071, 0.013953921385109425, -0.005949028767645359, 0.02953341044485569, 0.004398593213409185, -0.012137111276388168, -0.0005976349348202348, 0.017908558249473572, 0.011980018578469753, -0.019342880696058273, -0.011850247159600258, 0.007902441546320915, -0.010422753170132637, -0.0025612926110625267, -0.007881950587034225, 0.014534481801092625, 0.014589122496545315, 0.019848309457302094, 0.012587899342179298, -0.025203118100762367, 0.0035516589414328337, 0.02768927998840809, -0.004436158575117588, 0.01498526893556118, -0.011030633002519608, 0.012150771915912628, 0.013837809674441814, -0.00867424439638853, -0.0073150512762367725, -0.0052762627601623535, -0.01590050384402275, -0.020995767787098885, -0.049969110637903214, 0.01430225744843483, 0.021118709817528725, -0.014015392400324345, 0.020422039553523064, -0.004975737538188696, -0.007827309891581535, -0.020763544365763664, 0.012458126991987228, -0.008810846135020256, -0.002650083974003792, -0.0012251515872776508, -0.01388562098145485, -0.03346755728125572, -0.027033589780330658, -0.01652887463569641, 0.021023089066147804, 0.0010065879905596375, -0.017498750239610672, -0.020476680248975754, 0.018263723701238632, 0.008257606998085976, -0.025025535374879837, -0.02876843698322773, -0.04912217706441879, 0.011604363098740578, 0.0032340586185455322, 0.0036677708849310875, 0.02950608916580677, -0.01534043438732624, 0.017512410879135132, -0.00693939533084631, 0.014397879131138325, -0.026459859684109688, -0.022430092096328735, -0.02830399014055729, 0.00036775891203433275, 0.038467198610305786, 0.018181761726737022, 0.020449358969926834, 0.01419297605752945, 0.0168567206710577, -0.0005293337744660676, 0.0045215352438390255, -0.008653753437101841, 0.003095748834311962, 0.012102960608899593, -0.018373005092144012, 0.01374901831150055, 0.01449350081384182, 0.01591416448354721, 0.0025561698712408543, 0.012908914126455784, -0.004016106482595205, 0.012581069022417068, 0.00402635196223855, -0.0022197868674993515, -0.02786686271429062, -0.005310412961989641, -0.004238085355609655, -0.009350425563752651, -0.019971251487731934, 0.010006115771830082, 0.009370915591716766, -0.024192262440919876, 0.019069677218794823, 0.009138692170381546, 0.0017553390935063362, -0.02931484766304493, 0.024861613288521767, -0.009835363365709782, 0.021227993071079254, 0.011563382111489773, 0.005166980903595686, -0.026828685775399208, -0.006546663586050272, 0.008940618485212326, -0.0074789742939174175, 0.014998928643763065, -0.007157959043979645, 0.007772669196128845, -0.014411539770662785, -0.0074516539461910725, 0.005911462940275669, 0.04117192327976227, -0.025558283552527428, -0.022402772679924965, 0.006782302632927895, -0.04177297279238701, -0.005494826473295689, -0.006492022890597582, -0.009603139013051987, -0.01575024239718914, 0.0012003923766314983, 0.013455323874950409, 5.501442865352146e-05, 0.0003404384769964963, -0.005566542502492666, -0.017389468848705292, 0.006427136715501547, 0.020012231543660164, 0.02999785728752613, 0.0025851980317384005, 0.0350794643163681, 0.021528517827391624, -0.003531168680638075, -0.019547784700989723, 0.0022505223751068115, -0.009521177969872952, -0.011693154461681843, 0.026664763689041138, 0.014944287948310375, 0.012225902639329433, -0.007157959043979645, -0.0028327894397079945, 0.004559100605547428, -0.010067586787045002, -0.009418725967407227, 0.035161424428224564, 0.017771955579519272, 0.01633763127028942, -0.02792150340974331, -0.0313911996781826, -0.019643405452370644, 0.026951627805829048, -0.004859625827521086, -0.002745705656707287, -0.01523115299642086, -0.03868576139211655, -0.011215046048164368, 0.026405218988656998, -0.012034660205245018, 0.019397521391510963, 0.00414246367290616, -0.014015392400324345, 0.015121870674192905, -0.011706814169883728, -0.024943573400378227, 0.0008264437201432884, -0.002479331102222204, 0.02730679325759411, -0.024164941161870956, 0.018318364396691322, -0.0012695473851636052, 0.005279677454382181, -0.006406646221876144, -0.00784779991954565, 0.004610326606780291, 0.03171904757618904, -0.02782588265836239, -0.0009442631853744388, 0.0026978948153555393, 0.01497160829603672, 0.010320301167666912, -0.012205412611365318, -0.022348131984472275, -0.009193332865834236, -0.0029164585284888744, -0.02796248346567154, 0.010019776411354542, 0.007840970531105995, -0.020886486396193504, -0.011283347383141518, 0.00823028665035963, -0.006174422334879637, -0.006215403322130442, 0.002814006758853793, 0.01362607628107071, -0.0007030747947283089, -0.01348947361111641, 0.016993321478366852, -0.0014573754742741585, 0.003157219849526882, 0.02706090919673443, -0.012150771915912628, -0.010559354908764362, 0.023700494319200516, -0.020777205005288124, 0.0007444823859259486, 0.00797757226973772, 0.002282965462654829, -0.023809775710105896, 0.010251999832689762, -0.0037633925676345825, -0.0036882611457258463, 0.020203474909067154, -0.019438503310084343, -0.011966358870267868, -0.004098067991435528, 0.007499464321881533, 0.01633763127028942, 0.0024127375800162554, 0.006177837494760752, 0.013216269202530384, -0.00861277338117361, -0.0022044191136956215, -0.012724501080811024, -0.03005249984562397, -6.622008368140087e-05, -0.012478617019951344, -0.0023051633033901453, 0.020736224949359894, -0.0031333144288510084, -0.0026227636262774467, -0.0038795045111328363, 0.007267240900546312, 0.01374218799173832, -0.024465465918183327, -0.03368612006306648, -0.021323613822460175, 0.020695243030786514, -0.014534481801092625, 0.00043755414662882686, -0.020544981583952904, -0.0019926854874938726, -0.022143227979540825, 0.003602884942665696, -0.0009638997726142406, 0.00033680995693430305, 0.0027235078159719706, 0.014507160522043705, 0.013359702192246914, 0.023782454431056976, -0.009015750139951706, 0.002303455723449588, -0.0138173196464777, -0.021323613822460175, -0.021733419969677925, -0.005976349115371704, 0.004941586870700121, 0.017867576330900192, 0.019561445340514183, -0.021829042583703995, -0.02860451489686966, -0.00803221296519041, -0.03986054286360741, -0.03253865987062454, -0.005737295374274254, 0.013120647519826889, -0.0007893049623817205, 0.006215403322130442, 0.009862683713436127, 0.005426525138318539, 0.006509098224341869, 0.01662449538707733, -0.04772883281111717, -0.0008576061227358878, 0.004927926696836948, -0.020913807675242424, 0.022594016045331955, -0.023044802248477936, -0.020667923614382744, -0.023113103583455086, 0.0009715836495161057, 0.00824394728988409, 0.0011841709492728114, 0.011003312654793262, 0.0005788521375507116, -0.0031435596756637096, -0.008783525787293911, 0.022225189954042435, 0.0065295882523059845, 2.7427173336036503e-05, 0.009316274896264076, -0.018687190487980843, -0.009507518261671066, 0.0031828328501433134, -0.0006317854858934879, -0.023850755766034126, 0.006249553989619017, 0.008920128457248211, 0.008202966302633286, 0.007950251922011375, 0.0012610097182914615, -0.005057699047029018, 0.009664610028266907, -0.020107854157686234, -0.006044650450348854, -0.011508741416037083, -0.018714509904384613, 0.01416565477848053, -0.024711349979043007, -0.018031500279903412, -0.012307864613831043, 0.010443243198096752, -0.024287883192300797, -0.010320301167666912, 0.027074569836258888, -0.00790927093476057, -0.01437055878341198, -0.010443243198096752, 0.022184208035469055, -0.034724295139312744, -0.008127834647893906, -0.0027047249022871256, -0.023085784167051315, -0.024041999131441116, 0.038193993270397186, 0.0032084458507597446, -0.008332738652825356, -0.007759009022265673, 0.014698403887450695, 0.009760231710970402, -0.004121973644942045, -0.00417319918051362, 0.01330506056547165, -0.022238848730921745, -0.013475813902914524, 0.008503491058945656, -0.018755491822957993, -0.023796115070581436, 0.0038521839305758476, 0.011460930109024048, -0.002325653564184904, -0.004432743415236473, 0.20774473249912262, -0.007157959043979645, 0.01655619405210018, 0.03986054286360741, -0.0005984886665828526, -0.0007914393790997565, 0.015518018044531345, 0.013229929842054844, -0.0038760893512517214, 0.004968907684087753, -0.0152174923568964, 0.011699983850121498, -0.015244812704622746, 0.006515928078442812, 0.010962331667542458, -0.007629236672073603, -0.034888219088315964, -0.008722054772078991, -0.01640593260526657, -0.006191497668623924, 0.023550231009721756, -0.011604363098740578, -0.011686324141919613, -0.011413119733333588, 0.02906896360218525, 0.0030359853990375996, -0.02912360429763794, 0.009862683713436127, 0.018632549792528152, 0.010251999832689762, -0.00012603693176060915, -0.004244915675371885, -0.004005861468613148, -0.0020422039087861776, -0.008127834647893906, -0.00015602540224790573, -0.007724858354777098, 0.024233242496848106, 0.02757999859750271, 0.02700626850128174, -0.0015948314685374498, -0.0010757428826764226, -0.00781365018337965, -0.0034901879262179136, -0.02822202816605568, 0.014261276461184025, -0.008442020043730736, -0.0073560322634875774, 0.023058462888002396, 0.021610477939248085, -0.04789275676012039, -0.0038112031761556864, 0.025339720770716667, 0.024875273928046227, 0.0012780849356204271, 0.0073013911023736, 0.0025817828718572855, 0.012861103750765324, -0.002264182548969984, -0.0021241651847958565, -0.0074789742939174175, 0.019042355939745903, 0.0011261149775236845, 0.019001375883817673, -0.024287883192300797, -0.004354197531938553, -0.0342598482966423, 0.005768030881881714, -0.009234312921762466, -0.008687904104590416, 0.003947805613279343, -0.020613282918930054, -0.007540445309132338, 0.0002868647570721805, -0.02999785728752613, -0.04089871793985367, 0.023960037156939507, 0.026132013648748398, 0.014575461857020855, 0.022430092096328735, -0.00680962298065424, 0.009213822893798351, -0.006208573002368212, -0.002202711533755064, -0.006068555638194084, -0.01656985469162464, 0.03242937847971916, -0.005532391835004091, -0.0058704824186861515, -0.0038555990904569626, -0.005740710534155369, -0.0152174923568964, 0.004343952052295208, -0.026227636262774467, 0.0059012179262936115, 0.017580712214112282, -0.01573658175766468, 0.019739028066396713, -0.010313470847904682, -0.0007995501509867609, -0.004258575849235058, -0.018031500279903412, 0.017867576330900192, -0.010286150500178337, -0.008442020043730736, 0.024164941161870956, 0.0029232886154204607, 0.009452876634895802, 0.005723635200411081, 0.007035017013549805, -0.012744992040097713, -0.011392628774046898, 0.012642540037631989, -0.011426779441535473, 0.03368612006306648, 0.009732911363244057, -0.0030103723984211683, -0.02931484766304493, 0.017867576330900192, -0.0010176869109272957, 0.007697538007050753, -0.018741831183433533, 0.0020268361549824476, 0.017375808209180832, -0.01456180214881897, -0.021091390401124954, -0.020900147035717964, 0.00023926740686874837, 0.01654253527522087, -0.02857719361782074, -0.0034321320708841085, -0.004798154812306166, 0.00421076500788331, 0.0036985063925385475, 0.008708395063877106, 0.0024998215958476067, 0.004562515765428543, -0.017840256914496422, -0.0017655843403190374, -0.009268463589251041, 0.0012584483483806252, 0.013967582024633884, 0.020667923614382744, 0.007274070754647255, 0.0033979814033955336, -0.0027405829168856144, 0.002764488337561488, -0.0001234756491612643, -0.023236045613884926, -0.021255312487483025, -0.018659869208931923, 0.0003118373570032418, -0.018946735188364983, -0.006614964921027422, 0.04221010208129883, -0.017485089600086212, -0.03415056690573692, -0.02752535790205002, -0.010853050276637077, 0.013660226948559284, -0.022634996101260185, -0.014780365861952305, 0.023031141608953476, -0.011857076548039913, -0.04144512861967087, -0.007328711915761232, -0.1793314516544342, 0.0276346392929554, -0.00687109399586916, 0.0007888781256042421, 0.017935877665877342, 0.003797543002292514, 0.01678841933608055, 0.009623629972338676, -0.006341760512441397, 0.0019619499798864126, 0.021405575796961784, 0.0033928588964045048, -0.02893236093223095, -0.011023802682757378, 0.024246903136372566, -0.011515570804476738, -0.004753759130835533, 0.01594148389995098, 0.025285080075263977, 0.011037463322281837, 0.01654253527522087, -0.009930985048413277, 0.014138334430754185, -0.019916610792279243, 0.010074417106807232, 0.023440949618816376, -0.025886129587888718, 0.0013498011976480484, -0.011980018578469753, -0.01655619405210018, -0.014138334430754185, -0.015395076014101505, 0.011133085004985332, 0.011529231444001198, 0.012922574765980244, -0.007601916324347258, -0.014029053039848804, -0.012321524322032928, 0.0015495819970965385, 0.023714153096079826, 0.021432895213365555, 0.019479483366012573, 0.007697538007050753, 0.004606911446899176, 0.006328099872916937, 0.020107854157686234, 0.019793668761849403, -0.019424842670559883, 0.011973189190030098, -0.019424842670559883, 0.019752688705921173, -0.01368754729628563, -0.00671741645783186, 0.02800346538424492, 0.0004759735311381519, 0.009575818665325642, -0.015572658739984035, -0.00352775352075696, -0.020831845700740814, -0.006406646221876144, -0.012663030065596104, -0.010818899609148502, 0.020258115604519844, -0.018851112574338913, -0.00736286211758852, -0.016925020143389702, -0.01369437761604786, -0.0080527039244771, -0.03300310671329498, 0.01667913608253002, -0.012123451568186283, -0.011392628774046898, 0.03201957046985626, -0.024096639826893806, 0.0003248572757001966, -0.0007419210742227733, -0.018072480335831642, 0.026364237070083618, 0.00773851852864027, -0.0020080532412976027, -0.005696314387023449, 0.020859166979789734, -0.01752607151865959, -0.0004559100780170411, -0.005853407084941864, 0.012191752903163433, -0.006652530282735825, 0.00433370703831315, -0.02734777331352234, -0.03038034401834011, 0.01771731488406658, -0.019288240000605583, -0.004005861468613148, -0.021555837243795395, 0.021596819162368774, 0.036636728793382645, 0.011959528550505638, 0.004514704924076796, -0.0028481571935117245, 0.0038760893512517214, -0.001951704965904355, -0.0021070900838822126, -0.02988857589662075, 0.01581854186952114, 0.035844434052705765, -0.0028891379479318857, -0.005928538274019957, 0.019711706787347794, 0.018919413909316063, -0.002368341898545623, -0.0021924665197730064, 0.020667923614382744, 0.03100871481001377, 0.02898700162768364, -0.007519954815506935, 0.00171777349896729, 0.011488250456750393, -0.025585604831576347, 0.005709975026547909, -0.011884396895766258, 0.024916253983974457, 0.0007346640923060477, 0.019998572766780853, 0.014643763191998005, -0.005228451918810606, -0.011160405352711678, -0.09939181059598923, -0.04428645595908165, 0.009657780639827251, 0.01356460526585579, 0.015272133983671665, 0.024943573400378227, -0.005033793393522501, 0.023031141608953476, -0.012410315684974194, 0.038713082671165466, 0.0026210560463368893, -0.021214332431554794, -0.0007632651831954718, 0.00781365018337965, 0.011665834113955498, -0.0004315777914598584, -0.02790784277021885, -0.011413119733333588, -0.022512054070830345, 0.01356460526585579, -0.01373535767197609, -0.016925020143389702, -0.010429583489894867, -0.019178958609700203, 0.0002060773258563131, 0.0009382868302054703, -0.035216063261032104, 0.02876843698322773, 0.036609407514333725, 0.007260410580784082, 0.03038034401834011, -0.021665120497345924, 0.021268973127007484, -0.03816667199134827, 0.0022266169544309378, 0.00803221296519041, -0.018810132518410683, 0.006276874337345362, 0.019930271431803703, -0.02852255292236805, -0.0013036979362368584, 0.00019359102589078248, 0.01558631844818592, -0.02999785728752613, 0.010955502279102802, -0.022033946588635445, 0.00037565623642876744, 0.0011790483258664608, 0.011836586520075798, -0.013318721204996109, -0.013018196448683739, 0.018960393965244293, -0.0020968448370695114, -0.014875986613333225, 0.00690182950347662, -0.020749883726239204, -0.01411101408302784, 0.0058055962435901165, -0.018646210432052612, 0.004367857705801725, 0.006164177320897579, -0.019547784700989723, -0.00034769545891322196, 0.013455323874950409, 0.022375451400876045, 0.001967072719708085, -0.014835006557404995, -0.0018577908631414175, 0.004764004144817591, -0.018441306427121162, -0.0010646439623087645, -0.012348844669759274, -0.026760384440422058, 0.04611692577600479, -0.020941127091646194, -0.0007871705456636846, -0.019807329401373863, -0.020217135548591614, 0.01387196034193039, -0.03283918648958206, -0.0043268767185509205, -0.03038034401834011, 0.0013566312845796347, -0.008250776678323746, 0.012198582291603088, -0.005088434554636478, -0.0038760893512517214, 0.00792976189404726, 0.005501656327396631, -0.0346696563065052, 0.03335827216506004, 0.0020968448370695114, 0.025858810171484947, -0.011918547563254833, -0.025175798684358597, -0.0020114684011787176, -0.011454099789261818, -0.0020507415756583214, 0.03201957046985626, -0.017444109544157982, -0.0035858096089214087, -0.00417319918051362, -0.08043141663074493, 0.021036749705672264, -0.0025237270165234804, -0.004825475160032511, 0.014220296405255795, 0.0036780161317437887, 0.0159688051789999, -0.036882612854242325, -0.0064988527446985245, -0.004132218658924103, -0.022006625309586525, 0.010709618218243122, -0.005952443927526474, -0.010047096759080887, -0.002136118011549115, -0.024820631369948387, 0.019520463421940804, 0.005481165833771229, 0.0305715873837471, 0.01599612645804882, 0.012833783403038979, 0.011337988078594208, 0.019438503310084343, -0.001944874762557447, -0.013209438882768154, 0.00767021719366312, -0.01669279672205448, 0.0026705742347985506, 0.001944874762557447, -0.020517660304903984, 0.008148325607180595, -0.006420306395739317, -0.01423395611345768, 0.04278383031487465, -0.0002668013039510697, -0.00797757226973772, -0.004705948289483786, 0.0010526912519708276, -0.004671797621995211, 0.0066627757623791695, -0.006731076631695032, -0.01726652681827545, 0.017963198944926262, -0.018031500279903412, -0.010873540304601192, -0.011939038522541523, -0.010955502279102802, 0.011713644489645958, 0.01629665121436119, -0.013216269202530384, 0.01592782512307167, 0.025831488892436028, -0.01655619405210018, -0.017744634300470352, -0.018017839640378952, -0.05475018918514252, 0.024014677852392197, -0.0017314337892457843, -0.006027575116604567, -0.01632397063076496, -0.001190147246234119, 0.03313970938324928, 0.01559997908771038, -0.0072877309285104275, 0.00810734461992979, -0.008564962074160576, -0.01650155335664749, -0.01529945433139801, 0.03251133859157562, -0.019848309457302094, 0.000993781490251422, -0.021596819162368774, 0.01669279672205448, -0.015395076014101505, -0.0030633059795945883, -0.0015111626125872135, -0.004842550493776798, -0.003537998767569661, -0.008202966302633286, 0.025162138044834137, 0.013072837144136429, -0.004733268637210131, -0.03417788818478584, 0.017252866178750992, 0.0168567206710577, 0.017239205539226532, -0.024970894679427147, -0.008066363632678986, 0.013380192220211029, 0.012458126991987228, 0.014821345917880535, 0.017170904204249382, 0.006444212049245834, -0.0011739257024601102, 0.013830979354679585, 0.008510321378707886, -0.009534838609397411, -0.014384218491613865, 0.010654976591467857, 0.024274222552776337, 0.018277384340763092, -0.012963554821908474, -0.014261276461184025, -0.011447270400822163, -0.0017502165865153074, 0.011980018578469753, 0.00408099265769124, -0.020544981583952904, -0.011918547563254833, 0.021870022639632225, 0.021938323974609375, 0.005679239518940449, -0.005587032996118069, 0.022921860218048096, -0.021241651847958565, 0.01745777018368244, -0.0058363317511975765, -0.008319078013300896, -0.01547703705728054, 0.0350794643163681, 0.052537232637405396, 0.007697538007050753, 0.01528579369187355, -0.012915744446218014, 0.021077729761600494, 0.013728528283536434, 0.005505071487277746, -0.024397164583206177, 0.018591567873954773, -0.008564962074160576, 0.00793659221380949, -0.018017839640378952, -0.014766705222427845, -0.014329577796161175, -0.020818185061216354, -0.00047085093683563173, 0.014411539770662785, 0.020613282918930054, -0.019698048010468483, 0.07234456390142441, -0.007560935337096453, -0.004084407817572355, 0.0026688668876886368, 0.006348590366542339, 0.021009428426623344, 0.006519343238323927, 0.0168567206710577, -0.019274579361081123, -0.009896834380924702, 0.012956725433468819, 0.015026249922811985, 0.011911718174815178, -0.017799274995923042, -0.009357254952192307, -0.0034970180131495, -0.023222384974360466, 0.008926957845687866, -0.022621335461735725, 0.005819256417453289, 0.025080176070332527, 0.024533767253160477, 0.008749375119805336, -0.0059012179262936115, -0.02767561934888363, -0.010812069289386272, 0.011051123961806297, -0.0067276619374752045, -0.004542025271803141, -0.04128120467066765, 0.019479483366012573, -0.006099291145801544, -0.053274884819984436, -0.019151637330651283, 0.018523268401622772, -0.01656985469162464, -0.011208215728402138, 0.0029591466300189495, 0.02774392068386078, -0.0013165043201297522, -0.024424485862255096, 0.023809775710105896, -0.021132370457053185, -0.01726652681827545, 0.021856362000107765, -0.012205412611365318, -0.013721697963774204, -0.0158322025090456, 0.006283704191446304]\n",
      "1536\n"
     ]
    }
   ],
   "source": [
    "print(vector)\n",
    "print(len(vector))"
   ]
  },
  {
   "cell_type": "code",
   "execution_count": 120,
   "metadata": {},
   "outputs": [
    {
     "name": "stdout",
     "output_type": "stream",
     "text": [
      "Index(['id', 'text', 'embedding'], dtype='object')\n"
     ]
    }
   ],
   "source": [
    "import pandas as pd\n",
    "import numpy as np\n",
    "from sklearn.metrics.pairwise import cosine_similarity\n",
    "import ast\n",
    "\n",
    "df = pd.read_csv('embeddings.csv')\n",
    "\n",
    "\n",
    "# View the column names\n",
    "print(df.columns)"
   ]
  },
  {
   "cell_type": "code",
   "execution_count": 126,
   "metadata": {},
   "outputs": [],
   "source": [
    "def similarity_search(query_text, k=3, threshold=0.7):\n",
    "    \"\"\"\n",
    "    Performs similarity search using cosine similarity.\n",
    "\n",
    "    Args:\n",
    "        query_text: The text to search for.\n",
    "        k: The number of top results to return.\n",
    "        threshold: The minimum similarity score for a result to be considered relevant.\n",
    "\n",
    "    Returns:\n",
    "        A list of tuples (id, similarity_score) for the top k results.\n",
    "    \"\"\"\n",
    "\n",
    "    # Load embeddings from your CSV file\n",
    "    df = pd.read_csv(\"embeddings.csv\")\n",
    "\n",
    "    # Convert string representations of embeddings to lists\n",
    "    df[\"embedding\"] = df[\"embedding\"].apply(lambda x: ast.literal_eval(x))\n",
    "\n",
    "    embeddings = df[\"embedding\"].tolist()  # Extract embeddings as a list\n",
    "    ids = df[\"id\"].tolist()  # Extract IDs as a list\n",
    "\n",
    "    # Initialize OpenAIEmbeddings (assuming you have OPENAI_API defined)\n",
    "    embeddings_model = OpenAIEmbeddings(api_key=os.getenv(\"OPENAI_API\"))\n",
    "\n",
    "    # Get embedding for the query\n",
    "    query_embedding = embeddings_model.embed_query(query_text) \n",
    "\n",
    "    # Calculate cosine similarity\n",
    "    similarities = cosine_similarity([query_embedding], embeddings)\n",
    "\n",
    "    # Sort in descending order and get top indices\n",
    "    top_indices = np.argsort(similarities[0])[::-1] \n",
    "\n",
    "    # Get top k results\n",
    "    top_results = [(ids[i], similarities[0][i]) for i in top_indices[:k]]\n",
    "\n",
    "    # Filter results based on threshold\n",
    "    filtered_results = [(id, score) for id, score in top_results if score >= threshold]\n",
    "\n",
    "    return filtered_results"
   ]
  },
  {
   "cell_type": "code",
   "execution_count": 127,
   "metadata": {},
   "outputs": [],
   "source": [
    " # Check for missing IDs and handle them\n",
    "df[\"id\"].fillna(\"Unknown\", inplace=True)  # Fill missing IDs with \"Unknown\"\n",
    "ids = df[\"id\"].tolist()  # Extract IDs as a list"
   ]
  },
  {
   "cell_type": "code",
   "execution_count": 128,
   "metadata": {},
   "outputs": [
    {
     "name": "stdout",
     "output_type": "stream",
     "text": [
      "Similarity Score: 0.8270052052593904 (No ID available)\n",
      "Similarity Score: 0.7833081824256294 (No ID available)\n",
      "Similarity Score: 0.7792542001615645 (No ID available)\n"
     ]
    }
   ],
   "source": [
    "query_text = \"what are the deliverables\"\n",
    "results = similarity_search(query_text, k=3, threshold=0.7)\n",
    "\n",
    "if len(results) == 0:\n",
    "    print(\"Unable to find matching results.\")\n",
    "else:\n",
    "    for id, score in results:\n",
    "        if pd.isna(id):\n",
    "            print(f\"Similarity Score: {score} (No ID available)\")\n",
    "        else:\n",
    "            print(f\"ID: {id}, Similarity Score: {score}\")"
   ]
  }
 ],
 "metadata": {
  "kernelspec": {
   "display_name": "venv",
   "language": "python",
   "name": "python3"
  },
  "language_info": {
   "codemirror_mode": {
    "name": "ipython",
    "version": 3
   },
   "file_extension": ".py",
   "mimetype": "text/x-python",
   "name": "python",
   "nbconvert_exporter": "python",
   "pygments_lexer": "ipython3",
   "version": "3.8.10"
  }
 },
 "nbformat": 4,
 "nbformat_minor": 2
}
